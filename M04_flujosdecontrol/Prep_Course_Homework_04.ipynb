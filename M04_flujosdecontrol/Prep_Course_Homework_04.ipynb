{
 "cells": [
  {
   "attachments": {},
   "cell_type": "markdown",
   "metadata": {},
   "source": [
    "## Flujos de Control"
   ]
  },
  {
   "attachments": {},
   "cell_type": "markdown",
   "metadata": {},
   "source": [
    "1) Crear una variable que contenga un elemento del conjunto de números enteros y luego imprimir por pantalla si es mayor o menor a cero"
   ]
  },
  {
   "cell_type": "code",
   "execution_count": 1,
   "metadata": {},
   "outputs": [
    {
     "name": "stdout",
     "output_type": "stream",
     "text": [
      "El número es mayor que cero\n"
     ]
    }
   ],
   "source": [
    "# Crear una variable que contenga un número entero\n",
    "numero_entero = 5\n",
    "\n",
    "# Comprobar si el número es mayor, menor o igual a cero\n",
    "if numero_entero > 0:\n",
    "    print(\"El número es mayor que cero\")\n",
    "elif numero_entero < 0:\n",
    "    print(\"El número es menor que cero\")\n",
    "else:\n",
    "    print(\"El número es igual a cero\")"
   ]
  },
  {
   "attachments": {},
   "cell_type": "markdown",
   "metadata": {},
   "source": [
    "2) Crear dos variables y un condicional que informe si son del mismo tipo de dato"
   ]
  },
  {
   "cell_type": "code",
   "execution_count": 2,
   "metadata": {},
   "outputs": [
    {
     "name": "stdout",
     "output_type": "stream",
     "text": [
      "No son el mismo tipo de datos\n"
     ]
    }
   ],
   "source": [
    "a=3\n",
    "g=\"hola\"\n",
    "if(type(a)==type(g)):\n",
    "    print(\"Son el mismo tipo de datos\")\n",
    "else:\n",
    "    print(\"No son el mismo tipo de datos\")\n"
   ]
  },
  {
   "attachments": {},
   "cell_type": "markdown",
   "metadata": {},
   "source": [
    "3) Para los valores enteros del 1 al 20, imprimir por pantalla si es par o impar"
   ]
  },
  {
   "cell_type": "code",
   "execution_count": 7,
   "metadata": {},
   "outputs": [
    {
     "name": "stdout",
     "output_type": "stream",
     "text": [
      "el numero  1 es impar\n",
      "el numero  2  es par\n",
      "el numero  3 es impar\n",
      "el numero  4  es par\n",
      "el numero  5 es impar\n",
      "el numero  6  es par\n",
      "el numero  7 es impar\n",
      "el numero  8  es par\n",
      "el numero  9 es impar\n",
      "el numero  10  es par\n",
      "el numero  11 es impar\n",
      "el numero  12  es par\n",
      "el numero  13 es impar\n",
      "el numero  14  es par\n",
      "el numero  15 es impar\n",
      "el numero  16  es par\n",
      "el numero  17 es impar\n",
      "el numero  18  es par\n",
      "el numero  19 es impar\n",
      "el numero  20  es par\n"
     ]
    }
   ],
   "source": [
    "for i in range(1,21):\n",
    "    if i % 2==0:\n",
    "         print(\"el numero \", str(i),\" es par\")\n",
    "    else:\n",
    "         print(\"el numero \", str(i) ,\"es impar\")\n",
    "    "
   ]
  },
  {
   "attachments": {},
   "cell_type": "markdown",
   "metadata": {},
   "source": [
    "4) En un ciclo for mostrar para los valores entre 0 y 5 el resultado de elevarlo a la potencia igual a 3"
   ]
  },
  {
   "cell_type": "code",
   "execution_count": 11,
   "metadata": {},
   "outputs": [
    {
     "name": "stdout",
     "output_type": "stream",
     "text": [
      "0 0\n",
      "1 1\n",
      "2 8\n",
      "3 27\n",
      "4 64\n",
      "5 125\n"
     ]
    }
   ],
   "source": [
    "for i in range (0,6):\n",
    "    print(i ,i**3)"
   ]
  },
  {
   "attachments": {},
   "cell_type": "markdown",
   "metadata": {},
   "source": [
    "5) Crear una variable que contenga un número entero y realizar un ciclo for la misma cantidad de ciclos"
   ]
  },
  {
   "cell_type": "code",
   "execution_count": 12,
   "metadata": {},
   "outputs": [
    {
     "name": "stdout",
     "output_type": "stream",
     "text": [
      "Iteración 1\n",
      "Iteración 2\n",
      "Iteración 3\n",
      "Iteración 4\n"
     ]
    }
   ],
   "source": [
    "# Crear una variable que contenga un número entero\n",
    "numero_entero = 4\n",
    "\n",
    "# Realizar un ciclo for la misma cantidad de veces que el número entero\n",
    "for i in range(numero_entero):\n",
    "    print(\"Iteración\", i+1)\n"
   ]
  },
  {
   "attachments": {},
   "cell_type": "markdown",
   "metadata": {},
   "source": [
    "6) Utilizar un ciclo while para realizar el factorial de un número guardado en una variable, sólo si la variable contiene un número entero mayor a 0"
   ]
  },
  {
   "cell_type": "code",
   "execution_count": 24,
   "metadata": {},
   "outputs": [
    {
     "name": "stdout",
     "output_type": "stream",
     "text": [
      "el factorial es  120\n"
     ]
    }
   ],
   "source": [
    "numero=5\n",
    "if (type(numero) == int):\n",
    "    if numero >0:\n",
    "        factorial=numero\n",
    "        while(numero>2):\n",
    "            numero=numero-1\n",
    "            factorial=factorial*numero\n",
    "        print(\"el factorial es \" , factorial)\n",
    "    else:\n",
    "        print(\"el numero no es mayor que cero\")\n",
    "else:\n",
    "    print(\"no es un numero entero\")"
   ]
  },
  {
   "attachments": {},
   "cell_type": "markdown",
   "metadata": {},
   "source": [
    "7) Crear un ciclo for dentro de un ciclo while"
   ]
  },
  {
   "cell_type": "code",
   "execution_count": 25,
   "metadata": {},
   "outputs": [
    {
     "name": "stdout",
     "output_type": "stream",
     "text": [
      "Iteración del ciclo while: 0\n",
      "   Iteración del ciclo for: 0\n",
      "   Iteración del ciclo for: 1\n",
      "Iteración del ciclo while: 1\n",
      "   Iteración del ciclo for: 0\n",
      "   Iteración del ciclo for: 1\n",
      "Iteración del ciclo while: 2\n",
      "   Iteración del ciclo for: 0\n",
      "   Iteración del ciclo for: 1\n"
     ]
    }
   ],
   "source": [
    "# Definir una variable para el ciclo while\n",
    "contador = 0\n",
    "\n",
    "# Ciclo while\n",
    "while contador < 3:\n",
    "    print(\"Iteración del ciclo while:\", contador)\n",
    "    \n",
    "    # Ciclo for dentro del ciclo while\n",
    "    for i in range(2):\n",
    "        print(\"   Iteración del ciclo for:\", i)\n",
    "    \n",
    "    contador += 1\n"
   ]
  },
  {
   "attachments": {},
   "cell_type": "markdown",
   "metadata": {},
   "source": [
    "8) Crear un ciclo while dentro de un ciclo for"
   ]
  },
  {
   "cell_type": "code",
   "execution_count": 26,
   "metadata": {},
   "outputs": [
    {
     "name": "stdout",
     "output_type": "stream",
     "text": [
      "Iteración del ciclo for: 0\n",
      "   Iteración del ciclo while: 0\n",
      "   Iteración del ciclo while: 1\n",
      "Iteración del ciclo for: 1\n",
      "   Iteración del ciclo while: 0\n",
      "   Iteración del ciclo while: 1\n",
      "Iteración del ciclo for: 2\n",
      "   Iteración del ciclo while: 0\n",
      "   Iteración del ciclo while: 1\n"
     ]
    }
   ],
   "source": [
    "# Ciclo for\n",
    "for i in range(3):\n",
    "    print(\"Iteración del ciclo for:\", i)\n",
    "    \n",
    "    # Ciclo while dentro del ciclo for\n",
    "    contador = 0\n",
    "    while contador < 2:\n",
    "        print(\"   Iteración del ciclo while:\", contador)\n",
    "        contador += 1\n"
   ]
  },
  {
   "attachments": {},
   "cell_type": "markdown",
   "metadata": {},
   "source": [
    "9) Imprimir los números primos existentes entre 0 y 30"
   ]
  },
  {
   "cell_type": "code",
   "execution_count": 30,
   "metadata": {},
   "outputs": [
    {
     "name": "stdout",
     "output_type": "stream",
     "text": [
      "0\n",
      "1\n",
      "2\n",
      "3\n",
      "5\n",
      "7\n",
      "11\n",
      "13\n",
      "17\n",
      "19\n",
      "23\n",
      "29\n"
     ]
    }
   ],
   "source": [
    "tope_rango=30\n",
    "n = 0\n",
    "primo = True\n",
    "while (n < tope_rango):\n",
    "    for div in range(2, n):\n",
    "        if (n % div == 0):\n",
    "            primo = False\n",
    "    if (primo):\n",
    "        print(n)\n",
    "    else:\n",
    "        primo = True\n",
    "    n += 1"
   ]
  },
  {
   "attachments": {},
   "cell_type": "markdown",
   "metadata": {},
   "source": [
    "10) ¿Se puede mejorar el proceso del punto 9? Utilizar las sentencias break y/ó continue para tal fin"
   ]
  },
  {
   "cell_type": "code",
   "execution_count": 31,
   "metadata": {},
   "outputs": [
    {
     "name": "stdout",
     "output_type": "stream",
     "text": [
      "Números primos entre 0 y 30 :\n",
      "2\n",
      "3\n",
      "5\n",
      "7\n",
      "11\n",
      "13\n",
      "17\n",
      "19\n",
      "23\n",
      "29\n"
     ]
    }
   ],
   "source": [
    "tope_rango = 30\n",
    "n = 2  # Comenzamos desde 2, ya que 0 y 1 no son números primos\n",
    "\n",
    "print(\"Números primos entre 0 y\", tope_rango, \":\")\n",
    "\n",
    "while n < tope_rango:\n",
    "    primo = True\n",
    "    for div in range(2, int(n ** 0.5) + 1):\n",
    "        if n % div == 0:\n",
    "            primo = False\n",
    "            break  # No es necesario seguir buscando más divisores\n",
    "    if primo:\n",
    "        print(n)\n",
    "    n += 1"
   ]
  },
  {
   "attachments": {},
   "cell_type": "markdown",
   "metadata": {},
   "source": [
    "11) En los puntos 9 y 10, se diseño un código que encuentra números primos y además se lo optimizó. ¿Es posible saber en qué medida se optimizó?"
   ]
  },
  {
   "cell_type": "code",
   "execution_count": 32,
   "metadata": {},
   "outputs": [
    {
     "name": "stdout",
     "output_type": "stream",
     "text": [
      "0\n",
      "1\n",
      "2\n",
      "3\n",
      "5\n",
      "7\n",
      "11\n",
      "13\n",
      "17\n",
      "19\n",
      "23\n",
      "29\n",
      "Cantidad de ciclos: 378\n"
     ]
    }
   ],
   "source": [
    "ciclos_sin_break = 0\n",
    "n = 0\n",
    "primo = True\n",
    "while (n < tope_rango):\n",
    "    for div in range(2, n):\n",
    "        ciclos_sin_break += 1\n",
    "        if (n % div == 0):\n",
    "            primo = False\n",
    "    if (primo):\n",
    "        print(n)\n",
    "    else:\n",
    "        primo = True\n",
    "    n += 1\n",
    "print('Cantidad de ciclos: ' + str(ciclos_sin_break))"
   ]
  },
  {
   "attachments": {},
   "cell_type": "markdown",
   "metadata": {},
   "source": [
    "12) Aplicando continue, armar un ciclo while que solo imprima los valores divisibles por 12, dentro del rango de números de 100 a 300"
   ]
  },
  {
   "cell_type": "code",
   "execution_count": 33,
   "metadata": {},
   "outputs": [
    {
     "name": "stdout",
     "output_type": "stream",
     "text": [
      "Números divisibles por 12 en el rango de 100 a 300:\n",
      "108\n",
      "120\n",
      "132\n",
      "144\n",
      "156\n",
      "168\n",
      "180\n",
      "192\n",
      "204\n",
      "216\n",
      "228\n",
      "240\n",
      "252\n",
      "264\n",
      "276\n",
      "288\n",
      "300\n"
     ]
    }
   ],
   "source": [
    "numero = 100\n",
    "\n",
    "print(\"Números divisibles por 12 en el rango de 100 a 300:\")\n",
    "while numero <= 300:\n",
    "    if numero % 12 != 0:\n",
    "        numero += 1\n",
    "        continue\n",
    "    print(numero)\n",
    "    numero += 1\n"
   ]
  },
  {
   "attachments": {},
   "cell_type": "markdown",
   "metadata": {},
   "source": [
    "13) Utilizar la función **input()** que permite hacer ingresos por teclado, para encontrar números primos y dar la opción al usario de buscar el siguiente"
   ]
  },
  {
   "cell_type": "code",
   "execution_count": 34,
   "metadata": {},
   "outputs": [
    {
     "name": "stdout",
     "output_type": "stream",
     "text": [
      "1\n",
      "¿Desea encontrar el siguiente número primo?\n",
      "Se finaliza el proceso\n"
     ]
    }
   ],
   "source": [
    "n = 1\n",
    "sigue = 1\n",
    "primo = True\n",
    "while (sigue == 1):\n",
    "    for div in range(2, n):\n",
    "        if (n % div == 0):\n",
    "            primo = False\n",
    "            break\n",
    "    if (primo):\n",
    "        print(n)\n",
    "        print('¿Desea encontrar el siguiente número primo?')\n",
    "        if (input() != '1'):\n",
    "            print('Se finaliza el proceso')\n",
    "            break\n",
    "    else:\n",
    "        primo = True\n",
    "    n += 1"
   ]
  },
  {
   "attachments": {},
   "cell_type": "markdown",
   "metadata": {},
   "source": [
    "14) Crear un ciclo while que encuentre dentro del rango de 100 a 300 el primer número divisible por 3 y además múltiplo de 6"
   ]
  },
  {
   "cell_type": "code",
   "execution_count": 36,
   "metadata": {},
   "outputs": [
    {
     "name": "stdout",
     "output_type": "stream",
     "text": [
      "Buscando el primer número divisible por 3 y múltiplo de 6 dentro del rango de 100 a 300...\n",
      "El primer número divisible por 3 y múltiplo de 6 es: 102\n"
     ]
    }
   ],
   "source": [
    "numero = 100\n",
    "\n",
    "print(\"Buscando el primer número divisible por 3 y múltiplo de 6 dentro del rango de 100 a 300...\")\n",
    "while numero <= 300:\n",
    "    if numero % 3 == 0 and numero % 6 == 0:\n",
    "        print(f\"El primer número divisible por 3 y múltiplo de 6 es: {numero}\")\n",
    "        break\n",
    "    numero += 1\n",
    "else:\n",
    "    print(\"No se encontró ningún número dentro del rango de 100 a 300 que cumpla con las condiciones.\")\n"
   ]
  }
 ],
 "metadata": {
  "interpreter": {
   "hash": "c85384e4cb51c8b72350f3a8712cc8351fdc3955e32a27f9b60c6242ab125f01"
  },
  "kernelspec": {
   "display_name": "Python 3 (ipykernel)",
   "language": "python",
   "name": "python3"
  },
  "language_info": {
   "codemirror_mode": {
    "name": "ipython",
    "version": 3
   },
   "file_extension": ".py",
   "mimetype": "text/x-python",
   "name": "python",
   "nbconvert_exporter": "python",
   "pygments_lexer": "ipython3",
   "version": "3.10.0"
  }
 },
 "nbformat": 4,
 "nbformat_minor": 4
}
